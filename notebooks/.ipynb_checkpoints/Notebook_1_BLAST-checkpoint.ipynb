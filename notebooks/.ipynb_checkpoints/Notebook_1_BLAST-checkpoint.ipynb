{
 "cells": [
  {
   "cell_type": "markdown",
   "metadata": {},
   "source": [
    "# BLAST an unknown sequence \n",
    "\n"
   ]
  },
  {
   "cell_type": "markdown",
   "metadata": {},
   "source": [
    "As stated in the introduction, we have an sequence from *D.yakuba*, but we don't know much about it. First, let's examine the [sequence](./files/yakuba.fa), which is saved in the same directory as this notebook. "
   ]
  },
  {
   "cell_type": "markdown",
   "metadata": {},
   "source": [
    "We will use Linux's `head` command to to preview the first few line of the file. \n",
    "> Tip: To execute a bash command we can place a `!` in front of the command to launch within this Python Jupyter notebook. "
   ]
  },
  {
   "cell_type": "code",
   "execution_count": 1,
   "metadata": {},
   "outputs": [
    {
     "name": "stdout",
     "output_type": "stream",
     "text": [
      ">unknown\r\n",
      "CACATTAACTTTGGCGATATTATTTTATTTAAACATTTTTCAAAAGTGGG\r\n",
      "AACTTGCGACTGTCTTTGCAATGTGCATGTTTAATCATAACATTCTTGCT\r\n",
      "TTATCAATGGATAGATTAATCCATATCTGGCTACTTCGAAAAGCGTATAG\r\n",
      "TAGCTTATATCCTACATATTTACATATACCATTTTACAAATGTTTTTTAA\r\n",
      "ATTTAAGCCTTTCAGCTACCCAACTAGGTAAGTTCAAGACCCGGGTGCGA\r\n",
      "AAAAATTAAGGACTATAAATGTTTCCGTTCATTGCATCGTAAGCAAAGAG\r\n",
      "CAACCCAGCTATTGATCGCCAATTCTCTAATGAGCAGGTACGCGGCCACT\r\n",
      "TTTTATCTTTAACTTTTTTTCGAATGGTCGCCGAAGAAGTGAGGGCGTAC\r\n",
      "CTGTAAGTACTTTCGGCTGAAGTGTATAATATTGTATAGTAGCACAGCTG\r\n"
     ]
    }
   ],
   "source": [
    "!head ./files/yakuba.fa"
   ]
  },
  {
   "cell_type": "markdown",
   "metadata": {},
   "source": [
    "## Starting with Biopython\n",
    "\n",
    "In these notebooks, we will be using [Biopython](http://biopython.org/) a set of free software tools for a variety of bioinformatics applications. While this tutorial will not teach Biopython comprehensively, you will learn some useful features and we will refer you to the [Biopython documentation](http://biopython.org/wiki/Documentation) to learn more. "
   ]
  },
  {
   "cell_type": "markdown",
   "metadata": {},
   "source": [
    "### Load Biopython and check version\n",
    "First, let's check that Biopython is installed and check the version. "
   ]
  },
  {
   "cell_type": "code",
   "execution_count": 2,
   "metadata": {},
   "outputs": [
    {
     "name": "stdout",
     "output_type": "stream",
     "text": [
      "Biopython version is 1.70\n"
     ]
    }
   ],
   "source": [
    "import Bio\n",
    "print(\"Biopython version is \" + Bio.__version__)"
   ]
  },
  {
   "cell_type": "markdown",
   "metadata": {
    "collapsed": true
   },
   "source": [
    "> tip: If you did not have Biopython installed, you "
   ]
  },
  {
   "cell_type": "code",
   "execution_count": null,
   "metadata": {
    "collapsed": true
   },
   "outputs": [],
   "source": []
  }
 ],
 "metadata": {
  "kernelspec": {
   "display_name": "Python 3",
   "language": "python",
   "name": "python3"
  },
  "language_info": {
   "codemirror_mode": {
    "name": "ipython",
    "version": 3
   },
   "file_extension": ".py",
   "mimetype": "text/x-python",
   "name": "python",
   "nbconvert_exporter": "python",
   "pygments_lexer": "ipython3",
   "version": "3.6.1"
  }
 },
 "nbformat": 4,
 "nbformat_minor": 2
}

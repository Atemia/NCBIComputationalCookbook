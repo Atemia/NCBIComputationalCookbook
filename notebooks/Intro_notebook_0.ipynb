{
 "cells": [
  {
   "cell_type": "markdown",
   "metadata": {},
   "source": [
    "# Understanding how: BLAST"
   ]
  },
  {
   "cell_type": "markdown",
   "metadata": {},
   "source": [
    "## Goal: \n",
    "\n",
    "**Use [BLAST](https://blast.ncbi.nlm.nih.gov/Blast.cgi) to identify genes and their function in an sequence of DNA from a non-model organism.**  "
   ]
  },
  {
   "cell_type": "markdown",
   "metadata": {},
   "source": [
    "## Learning Objectives\n",
    "Completing this tutorial, we anticipate learners will be able to: \n",
    "\n",
    "- Explain fundamental BLAST concepts including:\n",
    "    - Similarity search\n",
    "    - Homology\n",
    "    - Sequence databases\n",
    "    - Expectation value (e-value)\n",
    "- Execute a BLAST search using Biopython (command line)\n",
    "- Interpret the results of a BLAST search to determine homology\n",
    "- Use Biopython to retrieve sequence information from NCBI Entrez databases including:\n",
    "    - Conserved protein domains and functional annotation\n",
    "    - Protein-coding gene structural annotation \n",
    "- Explain the advantages of running BLAST at the command line. "
   ]
  },
  {
   "cell_type": "markdown",
   "metadata": {},
   "source": [
    "## Time and prior knowledge\n",
    "\n",
    "**Level:** Intermediate\n",
    "\n",
    "This notebook is appropriate for a learner with:\n",
    "- Basic knowledge of molecular biology/genetics (2-4th year undergraduate)\n",
    "- Introductory knowledge of command line (basic Linux commands, e.g.: cd, ls, mkdir)\n",
    "- Introductory knowledge of Python (e.g. basic syntax, saving variables, for loops)\n",
    "\n",
    "**Timing:**\n",
    "We estimate you can run through exercises in these notebooks in the following times:\n",
    "- Notebook 0 Intro: 5 minutes\n",
    "- Notebook 1 [Title]: 30 minutes\n",
    "- Notebook 2 [Title]: 15 minutes\n",
    "- Notebook 3 [Title]: 20 minutes\n",
    "- Notebook 4 [Title]: 20 minutes\n"
   ]
  },
  {
   "cell_type": "markdown",
   "metadata": {},
   "source": [
    "## Recommended readings\n",
    "\n",
    "These are some useful background readings and resources:\n",
    "- [An Introduction to Sequence Similarity (“Homology”) Searching](https://www.ncbi.nlm.nih.gov/pmc/articles/PMC3820096/pdf/nihms519883.pdf)\n",
    "- [NCBI BLAST manual](https://www.ncbi.nlm.nih.gov/books/NBK153387/)"
   ]
  },
  {
   "cell_type": "markdown",
   "metadata": {},
   "source": [
    "## Prerequisites and using your own data\n",
    "\n",
    "In this tutorial, we will use the following sample data. You can substitute your own, similarly formatted data to run these analyses on your own. Keep in mind analysis times for several steps will increase with the size of your data (i.e. file sizes, number of files). \n",
    "\n",
    "|Input(s)|Sample data|Notes|\n",
    "|:------:|:---------:|:---:|\n",
    "|One or more DNA sequence files in [Fasta](https://en.wikipedia.org/wiki/FASTA_format#Format) format.|yakuba.fa|This example file is an 11kb sample of Yakuba DNA. In principle, you could extend this workflow to analyze one or more contigs from any genomic or transcriptomic sequence|"
   ]
  },
  {
   "cell_type": "markdown",
   "metadata": {},
   "source": [
    "## Introduction\n",
    "\n",
    "In this tutorial we will use on of the most important tools in bioinformatics, BLAST. According to the [BLAST homepage](https://blast.ncbi.nlm.nih.gov/Blast.cgi):\n",
    "\n",
    "> \"Basic Local Alignment Search Tool (BLAST) finds regions of local similarity between    sequences. The program compares nucleotide or protein sequences to sequence databases and \n",
    "calculates the statistical significance of matches. BLAST can be used to infer functional and evolutionary relationships between sequences as well as help identify members of gene \n",
    "families. \"\n",
    "\n",
    "These lessons will increase your understanding how BLAST blast works, as well as teach you how to use BLAST using Biopython at the command line. The advantage of a command line BLAST is that you can create a more reproducible, scalable workflow. "
   ]
  },
  {
   "cell_type": "markdown",
   "metadata": {},
   "source": [
    "## Problems to solve\n",
    "We have an 11kb sequence of DNA from the fly *Drosophila yakuba.* This is a non-model organism, but fortunately it should be very closely related to the well-studied *D. melanogaster*. Some of the questions we want to address include:\n",
    "\n",
    "- What gene(s) orthologs can we identify in the yakuba sequence?\n",
    "- For identified gene(s), what structural and functional annotation information can we identify by homology?\n",
    "- Given our BLAST results, how can we develop our own annotation of the protein coding regions of our yakuba sequence?"
   ]
  },
  {
   "cell_type": "markdown",
   "metadata": {
    "collapsed": true
   },
   "source": [
    "### On to Notebook 1"
   ]
  }
 ],
 "metadata": {
  "kernelspec": {
   "display_name": "Python 3",
   "language": "python",
   "name": "python3"
  },
  "language_info": {
   "codemirror_mode": {
    "name": "ipython",
    "version": 3
   },
   "file_extension": ".py",
   "mimetype": "text/x-python",
   "name": "python",
   "nbconvert_exporter": "python",
   "pygments_lexer": "ipython3",
   "version": "3.6.1"
  }
 },
 "nbformat": 4,
 "nbformat_minor": 2
}

{
 "cells": [
  {
   "cell_type": "markdown",
   "metadata": {},
   "source": [
    "# BLAST an unknown sequence \n",
    "\n"
   ]
  },
  {
   "cell_type": "markdown",
   "metadata": {},
   "source": [
    "As stated in the introduction, we have an sequence from *D.yakuba*, but we don't know much about it. First, let's examine the [sequence](./files/yakuba.fa), which is saved in the same directory as this notebook. "
   ]
  },
  {
   "cell_type": "markdown",
   "metadata": {},
   "source": [
    "We will use Linux's `head` command to to preview the first few line of the file. \n",
    "> Tip: To execute a bash command we can place a `!` in front of the command to launch within this Python Jupyter notebook. "
   ]
  },
  {
   "cell_type": "code",
   "execution_count": null,
   "metadata": {
    "collapsed": true
   },
   "outputs": [],
   "source": [
    "!head ./files/yakuba.fa"
   ]
  },
  {
   "cell_type": "markdown",
   "metadata": {},
   "source": [
    "## Starting with Biopython\n",
    "\n",
    "In these notebooks, we will be using [Biopython](http://biopython.org/) a set of free software tools for a variety of bioinformatics applications. While this tutorial will not teach Biopython comprehensively, you will learn some useful features and we will refer you to the [Biopython documentation](http://biopython.org/wiki/Documentation) to learn more. "
   ]
  },
  {
   "cell_type": "markdown",
   "metadata": {},
   "source": [
    "### Load Biopython and check version\n",
    "First, let's check that Biopython is installed and check the version. "
   ]
  },
  {
   "cell_type": "code",
   "execution_count": null,
   "metadata": {
    "collapsed": true
   },
   "outputs": [],
   "source": [
    "import Bio\n",
    "print(\"Biopython version is \" + Bio.__version__)"
   ]
  },
  {
   "cell_type": "markdown",
   "metadata": {
    "collapsed": true
   },
   "source": [
    "> tip: If you did not have Biopython installed, see their [installation instructions](http://biopython.org/wiki/Download)"
   ]
  },
  {
   "cell_type": "markdown",
   "metadata": {},
   "source": [
    "### Load a fasta file for use in Biopython\n",
    "\n",
    "In this step, we want to load the yakuba.fa sequence into a variable that can be used in our blast search. To to this we create a variable called `fasta_file` and use Python's `open()` function to read the file. As shown above, the yakuba file is in a folder called `files` at `./files/yakuba.fa`"
   ]
  },
  {
   "cell_type": "code",
   "execution_count": null,
   "metadata": {
    "collapsed": true,
    "solution2": "shown",
    "solution2_first": true
   },
   "outputs": [],
   "source": [
    "# Complete this code by entering the name of your file. The filename and \n",
    "# filepath should be in quotes\n",
    "\n",
    "fasta_file = open().read()"
   ]
  },
  {
   "cell_type": "code",
   "execution_count": 2,
   "metadata": {
    "collapsed": true,
    "solution2": "shown"
   },
   "outputs": [],
   "source": [
    "fasta_file = open('./files/yakuba.fa').read()"
   ]
  },
  {
   "cell_type": "markdown",
   "metadata": {},
   "source": [
    "We can preview what was read into the fasta file by printing it:"
   ]
  },
  {
   "cell_type": "code",
   "execution_count": null,
   "metadata": {
    "collapsed": true
   },
   "outputs": [],
   "source": [
    "print(fasta_file)"
   ]
  },
  {
   "cell_type": "markdown",
   "metadata": {},
   "source": [
    "### Preform a BLAST search using Biopython\n",
    "\n",
    "As mentioned in the introduction, BLAST is a tool for similarity searching. This is done by taking your **query** sequence (the sequence you want to find matches for), as well as **search parameters** (some optional adjustments to the way you wish to limit or expand your search) and searching a **database** (a repository of known DNA sequences). \n",
    "\n",
    "First, we will load the appropriate Biopython module for doing a BLAST search over the Internet. The [NCBIWWW module](http://biopython.org/DIST/docs/api/Bio.Blast.NCBIWWW-module.html) has a variety of features we will explore in a moment. "
   ]
  },
  {
   "cell_type": "code",
   "execution_count": 4,
   "metadata": {
    "collapsed": true
   },
   "outputs": [],
   "source": [
    "from Bio.Blast import NCBIWWW"
   ]
  },
  {
   "cell_type": "markdown",
   "metadata": {},
   "source": [
    "We will do our first BLAST using this piece of Biopython code. \n",
    "> tip: Since this is a real BLAST search, you will get an 'In [\\*]' in the cell below for up to several minutes as the search is executed. Don't proceed in the notebook until the '\\*' turns into a number. "
   ]
  },
  {
   "cell_type": "code",
   "execution_count": null,
   "metadata": {},
   "outputs": [],
   "source": [
    "blast_result_1 = NCBIWWW.qblast(\"blastn\", \"nt\", fasta_file)"
   ]
  },
  {
   "cell_type": "markdown",
   "metadata": {},
   "source": [
    "The blast result returned by the NCBIWWW.qblast function is not easy to read as it is an [XML file](https://en.wikipedia.org/wiki/XML). We will use some additional code to examine. \n",
    "\n",
    "First, let's save the blast result as its own file. This "
   ]
  },
  {
   "cell_type": "code",
   "execution_count": null,
   "metadata": {
    "collapsed": true
   },
   "outputs": [],
   "source": [
    "with open(\"./files/blast_output.xml\", \"w\") as output_xml:\n",
    "    output_xml.write(blast_result_1.read())\n",
    "blast_result_1.close()"
   ]
  },
  {
   "cell_type": "markdown",
   "metadata": {},
   "source": [
    "We can preview the first few lines of the `blast_output.xml` file and then go on to extract the information we need. "
   ]
  },
  {
   "cell_type": "code",
   "execution_count": null,
   "metadata": {
    "collapsed": true,
    "solution2": "hidden",
    "solution2_first": true
   },
   "outputs": [],
   "source": [
    "# Use the `!head` command (using the -n argument to specify the \n",
    "# number of lines) to preview the first 50 lines of the blast_output.xml file\n",
    "\n",
    "### your code here"
   ]
  },
  {
   "cell_type": "code",
   "execution_count": null,
   "metadata": {
    "collapsed": true,
    "solution2": "hidden"
   },
   "outputs": [],
   "source": [
    "!head -n 50 ./files/blast_output.xml"
   ]
  },
  {
   "cell_type": "markdown",
   "metadata": {
    "collapsed": true
   },
   "source": [
    "### Examining your BLAST result\n",
    "\n",
    "Next, we will use some additional Biopython tools to view the results of our BLAST search stored in the XML file. \n",
    "\n",
    "We will start by importing Biopython's [SearchIO module](http://biopython.org/DIST/docs/api/Bio.SearchIO-module.html):"
   ]
  },
  {
   "cell_type": "code",
   "execution_count": null,
   "metadata": {
    "collapsed": true
   },
   "outputs": [],
   "source": [
    "from Bio import SearchIO\n",
    "# you may get a warning that this feature is exprimental, we can ignore for now. "
   ]
  },
  {
   "cell_type": "markdown",
   "metadata": {},
   "source": [
    "Next, we will use SearchIO.read to read in the file to a variable and take a look. "
   ]
  },
  {
   "cell_type": "code",
   "execution_count": null,
   "metadata": {
    "collapsed": true
   },
   "outputs": [],
   "source": [
    "blast_result_1_xml = SearchIO.read('./files/blast_output.xml', 'blast-xml')\n",
    "print(blast_result_1_xml)"
   ]
  },
  {
   "cell_type": "markdown",
   "metadata": {
    "collapsed": true
   },
   "source": [
    "First let's interpret what we are seeing in this output:\n",
    "\n",
    "The first three lines are giving us some information about BLAST and our search:\n",
    "\n",
    "- **Program: blastn (2.6.1+)**: This is the BLAST tool we are using (blastn) and the version of the software. \n",
    "- **Query: unknown_yakuba_sequence (11001)**: This is the name and length of our sequence\n",
    "- **Target: nt**: This is the database we are searching called - 'nt' (more on this later). \n",
    "\n",
    "The next section (hits) is useful information on which sequences in the 'nt' database were close matches to our query sequence. \n",
    "\n",
    "- **Column 1 (#)**: This is the hit number 1..n\n",
    "- **Column 2 (# HSPs)**: The number \"[High-scoring Pairs](https://www.ncbi.nlm.nih.gov/books/NBK62051/); these are the number of places where there was a potentially valid match on a given sequence from the target database \n",
    "- **Column 3 (ID + description)**: [Genbank identifiers](https://www.ncbi.nlm.nih.gov/Sitemap/sequenceIDs.html) and description of the matching sequence\n"
   ]
  },
  {
   "cell_type": "markdown",
   "metadata": {},
   "source": [
    "In this form we are still looking at a lot of information, so let's look at just a single record. On our list of hits, hit 3 is the first D.melanogaster sequence, so let's look at that one. "
   ]
  },
  {
   "cell_type": "code",
   "execution_count": null,
   "metadata": {
    "collapsed": true
   },
   "outputs": [],
   "source": [
    "blast_hit = next(SearchIO.parse('./files/blast_output.xml', 'blast-xml'))\n",
    "\n",
    "print(blast_hit[3])\n"
   ]
  },
  {
   "cell_type": "markdown",
   "metadata": {},
   "source": [
    "We can also view the HSP alignments for the D.melaogaster sequence:\n"
   ]
  },
  {
   "cell_type": "code",
   "execution_count": null,
   "metadata": {
    "collapsed": true
   },
   "outputs": [],
   "source": [
    "blast_hit = next(SearchIO.parse('./files/blast_output.xml', 'blast-xml'))\n",
    "\n",
    "for hsps in blast_hit[3].hsps:\n",
    "    print(hsps)\n"
   ]
  },
  {
   "cell_type": "markdown",
   "metadata": {},
   "source": [
    "Each HSP record gives us some additional information including the location on our D.yakuba sequence (Query) and the D.melanogaster sequence (Hit). For example, the first HSP matches the coordinates [436867:439261] on chromosome 4 of D.melanogaster. "
   ]
  },
  {
   "cell_type": "markdown",
   "metadata": {},
   "source": [
    "## Critical assessment of BLAST results\n",
    "\n",
    "To understand the meaning of our BLAST results, we have to define a few terms. At this point, you should review the [recommended reading](./files/reading1_nihms519883.pdf) to help you answer the following questions. "
   ]
  },
  {
   "cell_type": "markdown",
   "metadata": {
    "solution": "hidden",
    "solution_first": true
   },
   "source": [
    "**Question**: What is a e-value?"
   ]
  },
  {
   "cell_type": "markdown",
   "metadata": {
    "solution": "hidden"
   },
   "source": [
    "**Answer**: e value: Expect value is the number of matches by chance to the provided sequence one can expect in a database of a given size. Lower e values indicate more “significant” or better alignments.\n"
   ]
  },
  {
   "cell_type": "markdown",
   "metadata": {
    "solution": "hidden",
    "solution_first": true
   },
   "source": [
    "**Question**: What is a bitscore"
   ]
  },
  {
   "cell_type": "markdown",
   "metadata": {
    "solution": "hidden"
   },
   "source": [
    "**Answer**: is a normalized score expressed in bits that lets you estimate the search space you would have to look through before you would expect to find an score as good as or better than this one by chance. "
   ]
  },
  {
   "cell_type": "markdown",
   "metadata": {
    "solution": "hidden",
    "solution_first": true
   },
   "source": [
    "**Question**: What is the difference between blast record IDs have an 'XM' identifier prefixes and others have NM?"
   ]
  },
  {
   "cell_type": "markdown",
   "metadata": {},
   "source": [
    "## What about parameters\n",
    "\n",
    "Now that we have run BLAST using some defaults, what happens when we want to adjust parameters? Let's examine the options:"
   ]
  },
  {
   "cell_type": "code",
   "execution_count": null,
   "metadata": {
    "collapsed": true
   },
   "outputs": [],
   "source": [
    "import inspect\n",
    "print(inspect.signature(NCBIWWW.qblast))"
   ]
  },
  {
   "cell_type": "markdown",
   "metadata": {},
   "source": [
    "There are many parameters for this function.  Many of them need not be adjusted in most cases.  For simplicity, let's focus on the four parameters below.  First, we create a python dictionary for a few different parameters we would like to adjust to ultimately compare outputs.  We can start by adjusting the database we want to query against.  We will store the output of each blast XML separately should we choose to access the data at a later point.  As we loop through each blast query for the different programs, we will collect "
   ]
  },
  {
   "cell_type": "code",
   "execution_count": 1,
   "metadata": {},
   "outputs": [
    {
     "ename": "NameError",
     "evalue": "name 'fasta_string' is not defined",
     "output_type": "error",
     "traceback": [
      "\u001b[0;31m---------------------------------------------------------------------------\u001b[0m",
      "\u001b[0;31mNameError\u001b[0m                                 Traceback (most recent call last)",
      "\u001b[0;32m<ipython-input-1-88be3cf51876>\u001b[0m in \u001b[0;36m<module>\u001b[0;34m()\u001b[0m\n\u001b[1;32m      2\u001b[0m \u001b[0;32mimport\u001b[0m \u001b[0mpandas\u001b[0m \u001b[0;32mas\u001b[0m \u001b[0mpd\u001b[0m\u001b[0;34m\u001b[0m\u001b[0m\n\u001b[1;32m      3\u001b[0m \u001b[0;32mimport\u001b[0m \u001b[0mmatplotlib\u001b[0m\u001b[0;34m\u001b[0m\u001b[0m\n\u001b[0;32m----> 4\u001b[0;31m \u001b[0mblast_params\u001b[0m \u001b[0;34m=\u001b[0m \u001b[0;34m{\u001b[0m\u001b[0;34m'program'\u001b[0m\u001b[0;34m:\u001b[0m \u001b[0;34m'blastn'\u001b[0m\u001b[0;34m,\u001b[0m \u001b[0;34m'database'\u001b[0m\u001b[0;34m:\u001b[0m \u001b[0;34m'nt'\u001b[0m\u001b[0;34m,\u001b[0m \u001b[0;34m'sequence'\u001b[0m\u001b[0;34m:\u001b[0m \u001b[0mfasta_string\u001b[0m\u001b[0;34m,\u001b[0m \u001b[0;34m'expect'\u001b[0m\u001b[0;34m:\u001b[0m \u001b[0;36m10.0\u001b[0m\u001b[0;34m}\u001b[0m\u001b[0;34m\u001b[0m\u001b[0m\n\u001b[0m\u001b[1;32m      5\u001b[0m \u001b[0mblast_params\u001b[0m\u001b[0;34m[\u001b[0m\u001b[0;34m'database'\u001b[0m\u001b[0;34m]\u001b[0m \u001b[0;34m=\u001b[0m \u001b[0;34m[\u001b[0m\u001b[0;34m'nt'\u001b[0m\u001b[0;34m,\u001b[0m \u001b[0;34m'refseq_representative_genomes'\u001b[0m\u001b[0;34m]\u001b[0m\u001b[0;34m\u001b[0m\u001b[0m\n\u001b[1;32m      6\u001b[0m \u001b[0mprint_data\u001b[0m \u001b[0;34m=\u001b[0m \u001b[0mpd\u001b[0m\u001b[0;34m.\u001b[0m\u001b[0mDataFrame\u001b[0m\u001b[0;34m(\u001b[0m\u001b[0;34m)\u001b[0m\u001b[0;34m\u001b[0m\u001b[0m\n",
      "\u001b[0;31mNameError\u001b[0m: name 'fasta_string' is not defined"
     ]
    }
   ],
   "source": [
    "%matplotlib inline\n",
    "import pandas as pd\n",
    "import matplotlib\n",
    "blast_params = {'program': 'blastn', 'database': 'nt', 'sequence': fasta_file, 'expect': 10.0}\n",
    "blast_params['database'] = ['nt', 'refseq_representative_genomes']\n",
    "print_data = pd.DataFrame()\n",
    "for database in blast_params['database']:\n",
    "    db_values = {}\n",
    "    #result = NCBIWWW.qblast(blast_params['program'], database, blast_params['sequence'], expect=blast_params['expect'])\n",
    "    file_name = \"blast_output_\" + database + \".xml\"\n",
    "    #with open(file_name, \"w\") as output_xml:\n",
    "    #    output_xml.write(result.read())\n",
    "    #result.close()\n",
    "    result_input = open(file_name)\n",
    "    blast_records = NCBIXML.read(result_input)\n",
    "    for description in blast_records.descriptions:\n",
    "        if 'score' in db_values:\n",
    "            db_values['score'].append(description.score)\n",
    "        else:\n",
    "            db_values['score'] = [description.score]\n",
    "        if 'e-value' in db_values:\n",
    "            db_values['e-value'].append(description.e)\n",
    "        else:\n",
    "            db_values['e-value'] = [description.e]\n",
    "    df = pd.DataFrame.from_dict(db_values)\n",
    "    df['database'] = database[0:6] # we simply limit the name to the first 6 characters for easier viewing\n",
    "    frames = [print_data, df]\n",
    "    print_data = pd.concat(frames, ignore_index=True)\n",
    "print_data.boxplot('score', by='database')\n",
    "print_data.boxplot('e-value', by='database')"
   ]
  },
  {
   "cell_type": "markdown",
   "metadata": {
    "solution": "hidden"
   },
   "source": [
    "**Answer**: 'X' denotes a predicted molecule and 'M' denotes a mRNA. 'NM' records are refseq mRNA molecules (i.e. experimentally verifies sequences)\n"
   ]
  }
 ],
 "metadata": {
  "kernelspec": {
   "display_name": "Python 3",
   "language": "python",
   "name": "python3"
  },
  "language_info": {
   "codemirror_mode": {
    "name": "ipython",
    "version": 3
   },
   "file_extension": ".py",
   "mimetype": "text/x-python",
   "name": "python",
   "nbconvert_exporter": "python",
   "pygments_lexer": "ipython3",
   "version": "3.6.1"
  }
 },
 "nbformat": 4,
 "nbformat_minor": 2
}

{
 "cells": [
  {
   "cell_type": "markdown",
   "metadata": {},
   "source": [
    "You now have a BLAST output (see Notebook 1 if not true)… now what?\n",
    "\n",
    "From Notebook 1, we saw our sequence didn't result with any reference genome, so we ended choosing a Genbank (gb) genome (AE014135.4) to further examine what function our sequence has. \n",
    "\n",
    "First lets look one more time at the BLAST output of the 4th (3rd index) hit:"
   ]
  },
  {
   "cell_type": "code",
   "execution_count": null,
   "metadata": {},
   "outputs": [],
   "source": [
    "from Bio.Blast import NCBIXML\n",
    "from Bio import SearchIO\n",
    "\n",
    "qresults = next(SearchIO.parse('blast_output.xml', 'blast-xml'))\n",
    "print(qresults[3]) # the 4th [index 3] hit\n",
    "\n",
    "#print(qresults[3][0])"
   ]
  },
  {
   "cell_type": "markdown",
   "metadata": {},
   "source": [
    "The \"Hit range\" gives us a chromosome position to examine. For this tutorial we will focus on the Hit range with E-value=0 (start=436867 and stop=444019) and see if any gene correspond to that region:"
   ]
  },
  {
   "cell_type": "code",
   "execution_count": null,
   "metadata": {
    "scrolled": true
   },
   "outputs": [],
   "source": [
    "!esearch -db gene -query \"AE014135.4[Nucleotide Accession] AND 436867:444019[CHRPOS]\" -sort Chromosome | \\\n",
    "efetch -format docsum | \\\n",
    "xtract -pattern DocumentSummary -element Id Name -block GenomicInfoType -element ChrAccVer ChrStart ChrStop \\\n",
    "> genes.txt\n",
    "\n",
    "infile=open('genes.txt','r')\n",
    "print('Id   Gene Name   ChrAccVer   ChrStart ChrStop')\n",
    "for line in infile: \n",
    "    print(line)"
   ]
  },
  {
   "cell_type": "markdown",
   "metadata": {},
   "source": [
    "This region of the accession only has one corresponding gene - lgs (legless). Using the information about the gene, we can now use EDirect to link to a protein:"
   ]
  },
  {
   "cell_type": "code",
   "execution_count": null,
   "metadata": {
    "scrolled": true
   },
   "outputs": [],
   "source": [
    "!cat genes.txt | cut -f 1 | xargs -n 1 sh -c 'elink -db gene -target protein -id \"$0\" | \\\n",
    "efilter -source refseq | efetch -format fasta' > protein.fasta\n",
    "\n",
    "!cat protein.fasta"
   ]
  },
  {
   "cell_type": "code",
   "execution_count": null,
   "metadata": {},
   "outputs": [],
   "source": [
    "!cat genes.txt | cut -f 1 | xargs -n 1 sh -c 'elink -db gene -target protein -id \"$0\" | \\\n",
    "efilter -source refseq | efetch -format uid'\n",
    "\n"
   ]
  },
  {
   "cell_type": "markdown",
   "metadata": {},
   "source": [
    "We can view the results on NCBI [concise conserved domain database](https://www.ncbi.nlm.nih.gov/cdd?LinkName=protein_cdd_concise_2&from_uid=21356901)"
   ]
  },
  {
   "cell_type": "code",
   "execution_count": null,
   "metadata": {},
   "outputs": [],
   "source": [
    "!esearch -db gene -query \"AE014135.4[Nucleotide Accession] AND 379383:449790[CHRPOS]\" -sort Chromosome | \\\n",
    "efetch -format docsum | \\\n",
    "xtract -pattern DocumentSummary -element Id Name -block GenomicInfoType -element ChrAccVer ChrStart ChrStop \\\n",
    "> longerpos-genes.txt\n",
    "\n",
    "infile=open('longerpos-genes.txt','r')\n",
    "print('Id   Gene Name   ChrAccVer   ChrStart ChrStop')\n",
    "for line in infile: \n",
    "    print(line)"
   ]
  },
  {
   "cell_type": "code",
   "execution_count": null,
   "metadata": {},
   "outputs": [],
   "source": [
    "!cat longerpos-genes.txt | cut -f 1 | xargs -n 1 sh -c 'elink -db gene -target protein -id \"$0\" | \\\n",
    "efilter -source refseq | efetch -format fasta' > more-protein.fasta\n",
    "\n",
    "!cat more-protein.fasta\n",
    "\n",
    "#!cat longerpos-genes.txt | cut -f 1 | xargs -n 1 sh -c 'elink -db gene -target protein -id \"$0\" | \\\n",
    "#efilter -source refseq | efetch -format acc'"
   ]
  }
 ],
 "metadata": {
  "kernelspec": {
   "display_name": "Python 3",
   "language": "python",
   "name": "python3"
  },
  "language_info": {
   "codemirror_mode": {
    "name": "ipython",
    "version": 3
   },
   "file_extension": ".py",
   "mimetype": "text/x-python",
   "name": "python",
   "nbconvert_exporter": "python",
   "pygments_lexer": "ipython3",
   "version": "3.6.1"
  }
 },
 "nbformat": 4,
 "nbformat_minor": 2
}
